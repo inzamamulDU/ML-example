{
 "cells": [
  {
   "cell_type": "code",
   "execution_count": 1,
   "metadata": {},
   "outputs": [
    {
     "name": "stderr",
     "output_type": "stream",
     "text": [
      "[nltk_data] Downloading package stopwords to\n",
      "[nltk_data]     C:\\Users\\inzim\\AppData\\Roaming\\nltk_data...\n",
      "[nltk_data]   Package stopwords is already up-to-date!\n"
     ]
    },
    {
     "name": "stdout",
     "output_type": "stream",
     "text": [
      "Requirement already satisfied: gensim in c:\\users\\inzim\\anaconda3\\lib\\site-packages (3.8.1)\n",
      "Requirement already satisfied: numpy>=1.11.3 in c:\\users\\inzim\\anaconda3\\lib\\site-packages (from gensim) (1.16.5)\n",
      "Requirement already satisfied: six>=1.5.0 in c:\\users\\inzim\\anaconda3\\lib\\site-packages (from gensim) (1.12.0)\n",
      "Requirement already satisfied: scipy>=0.18.1 in c:\\users\\inzim\\anaconda3\\lib\\site-packages (from gensim) (1.4.1)\n",
      "Requirement already satisfied: smart-open>=1.8.1 in c:\\users\\inzim\\anaconda3\\lib\\site-packages (from gensim) (1.9.0)\n",
      "Requirement already satisfied: boto>=2.32 in c:\\users\\inzim\\anaconda3\\lib\\site-packages (from smart-open>=1.8.1->gensim) (2.49.0)\n",
      "Requirement already satisfied: requests in c:\\users\\inzim\\anaconda3\\lib\\site-packages (from smart-open>=1.8.1->gensim) (2.22.0)\n",
      "Requirement already satisfied: boto3 in c:\\users\\inzim\\anaconda3\\lib\\site-packages (from smart-open>=1.8.1->gensim) (1.11.3)\n",
      "Requirement already satisfied: idna<2.9,>=2.5 in c:\\users\\inzim\\anaconda3\\lib\\site-packages (from requests->smart-open>=1.8.1->gensim) (2.8)\n",
      "Requirement already satisfied: certifi>=2017.4.17 in c:\\users\\inzim\\anaconda3\\lib\\site-packages (from requests->smart-open>=1.8.1->gensim) (2019.9.11)\n",
      "Requirement already satisfied: urllib3!=1.25.0,!=1.25.1,<1.26,>=1.21.1 in c:\\users\\inzim\\anaconda3\\lib\\site-packages (from requests->smart-open>=1.8.1->gensim) (1.24.2)\n",
      "Requirement already satisfied: chardet<3.1.0,>=3.0.2 in c:\\users\\inzim\\anaconda3\\lib\\site-packages (from requests->smart-open>=1.8.1->gensim) (3.0.4)\n",
      "Requirement already satisfied: jmespath<1.0.0,>=0.7.1 in c:\\users\\inzim\\anaconda3\\lib\\site-packages (from boto3->smart-open>=1.8.1->gensim) (0.9.4)\n",
      "Requirement already satisfied: s3transfer<0.4.0,>=0.3.0 in c:\\users\\inzim\\anaconda3\\lib\\site-packages (from boto3->smart-open>=1.8.1->gensim) (0.3.0)\n",
      "Requirement already satisfied: botocore<1.15.0,>=1.14.3 in c:\\users\\inzim\\anaconda3\\lib\\site-packages (from boto3->smart-open>=1.8.1->gensim) (1.14.3)\n",
      "Requirement already satisfied: docutils<0.16,>=0.10 in c:\\users\\inzim\\anaconda3\\lib\\site-packages (from botocore<1.15.0,>=1.14.3->boto3->smart-open>=1.8.1->gensim) (0.15.2)\n",
      "Requirement already satisfied: python-dateutil<3.0.0,>=2.1 in c:\\users\\inzim\\anaconda3\\lib\\site-packages (from botocore<1.15.0,>=1.14.3->boto3->smart-open>=1.8.1->gensim) (2.8.0)\n"
     ]
    },
    {
     "name": "stderr",
     "output_type": "stream",
     "text": [
      "Using TensorFlow backend.\n"
     ]
    }
   ],
   "source": [
    "import numpy as np\n",
    "import pandas as pd\n",
    "import json as j\n",
    "import urllib\n",
    "import gzip\n",
    "import nltk\n",
    "\n",
    "nltk.download('stopwords')\n",
    "from nltk.stem import PorterStemmer\n",
    "from sklearn.model_selection import train_test_split\n",
    "!pip install gensim\n",
    "from gensim.models import KeyedVectors\n",
    "from nltk.corpus import stopwords\n",
    "\n",
    "from keras.models import Model\n",
    "from keras.callbacks import EarlyStopping, ModelCheckpoint\n",
    "from keras.layers import Dense, Input, LSTM, Embedding, Dropout, Activation\n",
    "from keras.layers.merge import concatenate\n",
    "from keras.layers.normalization import BatchNormalization\n",
    "from keras.preprocessing import sequence\n",
    "from keras.preprocessing.text import Tokenizer\n",
    "from keras.preprocessing.sequence import pad_sequences\n"
   ]
  },
  {
   "cell_type": "code",
   "execution_count": 2,
   "metadata": {},
   "outputs": [
    {
     "data": {
      "text/html": [
       "<div>\n",
       "<style scoped>\n",
       "    .dataframe tbody tr th:only-of-type {\n",
       "        vertical-align: middle;\n",
       "    }\n",
       "\n",
       "    .dataframe tbody tr th {\n",
       "        vertical-align: top;\n",
       "    }\n",
       "\n",
       "    .dataframe thead th {\n",
       "        text-align: right;\n",
       "    }\n",
       "</style>\n",
       "<table border=\"1\" class=\"dataframe\">\n",
       "  <thead>\n",
       "    <tr style=\"text-align: right;\">\n",
       "      <th></th>\n",
       "      <th>Unnamed: 0</th>\n",
       "      <th>title</th>\n",
       "      <th>text</th>\n",
       "      <th>label</th>\n",
       "    </tr>\n",
       "  </thead>\n",
       "  <tbody>\n",
       "    <tr>\n",
       "      <td>0</td>\n",
       "      <td>8476</td>\n",
       "      <td>You Can Smell Hillary’s Fear</td>\n",
       "      <td>Daniel Greenfield, a Shillman Journalism Fello...</td>\n",
       "      <td>0</td>\n",
       "    </tr>\n",
       "    <tr>\n",
       "      <td>1</td>\n",
       "      <td>10294</td>\n",
       "      <td>Watch The Exact Moment Paul Ryan Committed Pol...</td>\n",
       "      <td>Google Pinterest Digg Linkedin Reddit Stumbleu...</td>\n",
       "      <td>0</td>\n",
       "    </tr>\n",
       "    <tr>\n",
       "      <td>2</td>\n",
       "      <td>3608</td>\n",
       "      <td>Kerry to go to Paris in gesture of sympathy</td>\n",
       "      <td>U.S. Secretary of State John F. Kerry said Mon...</td>\n",
       "      <td>1</td>\n",
       "    </tr>\n",
       "    <tr>\n",
       "      <td>3</td>\n",
       "      <td>10142</td>\n",
       "      <td>Bernie supporters on Twitter erupt in anger ag...</td>\n",
       "      <td>— Kaydee King (@KaydeeKing) November 9, 2016 T...</td>\n",
       "      <td>0</td>\n",
       "    </tr>\n",
       "    <tr>\n",
       "      <td>4</td>\n",
       "      <td>875</td>\n",
       "      <td>The Battle of New York: Why This Primary Matters</td>\n",
       "      <td>It's primary day in New York and front-runners...</td>\n",
       "      <td>1</td>\n",
       "    </tr>\n",
       "    <tr>\n",
       "      <td>...</td>\n",
       "      <td>...</td>\n",
       "      <td>...</td>\n",
       "      <td>...</td>\n",
       "      <td>...</td>\n",
       "    </tr>\n",
       "    <tr>\n",
       "      <td>6330</td>\n",
       "      <td>4490</td>\n",
       "      <td>State Department says it can't find emails fro...</td>\n",
       "      <td>The State Department told the Republican Natio...</td>\n",
       "      <td>1</td>\n",
       "    </tr>\n",
       "    <tr>\n",
       "      <td>6331</td>\n",
       "      <td>8062</td>\n",
       "      <td>The ‘P’ in PBS Should Stand for ‘Plutocratic’ ...</td>\n",
       "      <td>The ‘P’ in PBS Should Stand for ‘Plutocratic’ ...</td>\n",
       "      <td>0</td>\n",
       "    </tr>\n",
       "    <tr>\n",
       "      <td>6332</td>\n",
       "      <td>8622</td>\n",
       "      <td>Anti-Trump Protesters Are Tools of the Oligarc...</td>\n",
       "      <td>Anti-Trump Protesters Are Tools of the Oligar...</td>\n",
       "      <td>0</td>\n",
       "    </tr>\n",
       "    <tr>\n",
       "      <td>6333</td>\n",
       "      <td>4021</td>\n",
       "      <td>In Ethiopia, Obama seeks progress on peace, se...</td>\n",
       "      <td>ADDIS ABABA, Ethiopia —President Obama convene...</td>\n",
       "      <td>1</td>\n",
       "    </tr>\n",
       "    <tr>\n",
       "      <td>6334</td>\n",
       "      <td>4330</td>\n",
       "      <td>Jeb Bush Is Suddenly Attacking Trump. Here's W...</td>\n",
       "      <td>Jeb Bush Is Suddenly Attacking Trump. Here's W...</td>\n",
       "      <td>1</td>\n",
       "    </tr>\n",
       "  </tbody>\n",
       "</table>\n",
       "<p>6335 rows × 4 columns</p>\n",
       "</div>"
      ],
      "text/plain": [
       "      Unnamed: 0                                              title  \\\n",
       "0           8476                       You Can Smell Hillary’s Fear   \n",
       "1          10294  Watch The Exact Moment Paul Ryan Committed Pol...   \n",
       "2           3608        Kerry to go to Paris in gesture of sympathy   \n",
       "3          10142  Bernie supporters on Twitter erupt in anger ag...   \n",
       "4            875   The Battle of New York: Why This Primary Matters   \n",
       "...          ...                                                ...   \n",
       "6330        4490  State Department says it can't find emails fro...   \n",
       "6331        8062  The ‘P’ in PBS Should Stand for ‘Plutocratic’ ...   \n",
       "6332        8622  Anti-Trump Protesters Are Tools of the Oligarc...   \n",
       "6333        4021  In Ethiopia, Obama seeks progress on peace, se...   \n",
       "6334        4330  Jeb Bush Is Suddenly Attacking Trump. Here's W...   \n",
       "\n",
       "                                                   text  label  \n",
       "0     Daniel Greenfield, a Shillman Journalism Fello...      0  \n",
       "1     Google Pinterest Digg Linkedin Reddit Stumbleu...      0  \n",
       "2     U.S. Secretary of State John F. Kerry said Mon...      1  \n",
       "3     — Kaydee King (@KaydeeKing) November 9, 2016 T...      0  \n",
       "4     It's primary day in New York and front-runners...      1  \n",
       "...                                                 ...    ...  \n",
       "6330  The State Department told the Republican Natio...      1  \n",
       "6331  The ‘P’ in PBS Should Stand for ‘Plutocratic’ ...      0  \n",
       "6332   Anti-Trump Protesters Are Tools of the Oligar...      0  \n",
       "6333  ADDIS ABABA, Ethiopia —President Obama convene...      1  \n",
       "6334  Jeb Bush Is Suddenly Attacking Trump. Here's W...      1  \n",
       "\n",
       "[6335 rows x 4 columns]"
      ]
     },
     "execution_count": 2,
     "metadata": {},
     "output_type": "execute_result"
    }
   ],
   "source": [
    "import re\n",
    "#import sys  \n",
    "\n",
    "#reload(sys)  \n",
    "#sys.setdefaultencoding('utf8')\n",
    "\n",
    "\n",
    "import string\n",
    "from sklearn.feature_extraction.text import CountVectorizer\n",
    "def clean_text(text):\n",
    "    #text = [w.strip() for w in text.readlines()]\n",
    "    #text.decode('unicode_escape').encode('ascii','ignore')\n",
    "    text = str(text)\n",
    "    #text = text.decode(\"utf8\")\n",
    "    \n",
    "    text =  text.split()\n",
    "    words = []\n",
    "    for word in text:\n",
    "      exclude = set(string.punctuation)\n",
    "      word = ''.join(ch for ch in word if ch not in exclude)\n",
    "      if word in stops:\n",
    "        continue\n",
    "      try: \n",
    "        words.append(ps.stem(word))\n",
    "      except UnicodeDecodeError:\n",
    "        words.append(word)\n",
    "    text = \" \".join(words)\n",
    "    \n",
    "    \n",
    "    return text.lower()\n",
    "\n",
    "\n",
    "#Process data\n",
    "\n",
    "stops = set(stopwords.words(\"english\"))\n",
    "\n",
    "ps = PorterStemmer()\n",
    "\n",
    "\n",
    "\n",
    "f = pd.read_csv(\"data.csv\")  \n",
    "\n",
    "f.label = f.label.map(dict(REAL=1, FAKE=0))\n",
    "\n",
    "f"
   ]
  },
  {
   "cell_type": "code",
   "execution_count": 3,
   "metadata": {},
   "outputs": [
    {
     "data": {
      "text/plain": [
       "'2016 interview socrat anoth day life empir are near endgam fool ever ‘hope change’ 6 '"
      ]
     },
     "execution_count": 3,
     "metadata": {},
     "output_type": "execute_result"
    }
   ],
   "source": [
    "f = f[1:100]\n",
    "\n",
    "X_train, X_test, y_train, y_test = train_test_split(f['title'], f.label, test_size=0.2)\n",
    "\n",
    "X_cleaned_train = [clean_text(x) for x in X_train]\n",
    "\n",
    "X_cleaned_test = [clean_text(x) for x in X_test]\n",
    "\n",
    "\n",
    "\n",
    "X_cleaned_train[0]\n"
   ]
  },
  {
   "cell_type": "code",
   "execution_count": 4,
   "metadata": {},
   "outputs": [
    {
     "name": "stdout",
     "output_type": "stream",
     "text": [
      "Finished Building Tokenizer\n",
      "Finished Tokenizing Training\n",
      "Finished Tokenizing Training\n"
     ]
    }
   ],
   "source": [
    "import tokenize\n",
    "from keras.preprocessing.text import Tokenizer\n",
    "\n",
    "MAX_NB_WORDS = 20000\n",
    "tokenizer = Tokenizer(num_words=MAX_NB_WORDS)\n",
    "tokenizer.fit_on_texts(X_cleaned_train + X_cleaned_test)\n",
    "print('Finished Building Tokenizer')\n",
    "\n",
    "train_sequence = tokenizer.texts_to_sequences(X_cleaned_train)\n",
    "print('Finished Tokenizing Training')\n",
    "\n",
    "test_sequence = tokenizer.texts_to_sequences(X_cleaned_test)\n",
    "print('Finished Tokenizing Training')"
   ]
  },
  {
   "cell_type": "code",
   "execution_count": 6,
   "metadata": {},
   "outputs": [
    {
     "name": "stdout",
     "output_type": "stream",
     "text": [
      "Found 606 unique tokens\n"
     ]
    }
   ],
   "source": [
    "from gensim.models import KeyedVectors\n",
    "EMBEDDING_FILE = 'https://s3.amazonaws.com/dl4j-distribution/GoogleNews-vectors-negative300.bin.gz'\n",
    "word2vec = KeyedVectors.load_word2vec_format(EMBEDDING_FILE, binary=True)\n",
    "word_index = tokenizer.word_index\n",
    "print('Found %s unique tokens' % len(word_index))\n",
    "\n",
    "nb_words = min(20000, len(word_index))\n",
    "\n",
    "embedding_matrix = np.zeros((nb_words, 300))\n",
    "\n",
    "\n",
    "for word, i in word_index.items():\n",
    "    try:\n",
    "      embedding_vector = word2vec.word_vec(word)\n",
    "      if embedding_vector is not None and i < 7000:\n",
    "        embedding_matrix[i] = embedding_vector\n",
    "    except (KeyError, IndexError) as e:\n",
    "      continue"
   ]
  },
  {
   "cell_type": "code",
   "execution_count": 7,
   "metadata": {},
   "outputs": [
    {
     "name": "stdout",
     "output_type": "stream",
     "text": [
      "Model: \"sequential_1\"\n",
      "_________________________________________________________________\n",
      "Layer (type)                 Output Shape              Param #   \n",
      "=================================================================\n",
      "embedding_1 (Embedding)      (None, 50, 500)           2500000   \n",
      "_________________________________________________________________\n",
      "lstm_1 (LSTM)                (None, 125)               313000    \n",
      "_________________________________________________________________\n",
      "dropout_1 (Dropout)          (None, 125)               0         \n",
      "_________________________________________________________________\n",
      "dense_1 (Dense)              (None, 1)                 126       \n",
      "=================================================================\n",
      "Total params: 2,813,126\n",
      "Trainable params: 2,813,126\n",
      "Non-trainable params: 0\n",
      "_________________________________________________________________\n",
      "None\n"
     ]
    },
    {
     "name": "stderr",
     "output_type": "stream",
     "text": [
      "C:\\Users\\inzim\\Anaconda3\\lib\\site-packages\\tensorflow_core\\python\\framework\\indexed_slices.py:424: UserWarning: Converting sparse IndexedSlices to a dense Tensor of unknown shape. This may consume a large amount of memory.\n",
      "  \"Converting sparse IndexedSlices to a dense Tensor of unknown shape. \"\n"
     ]
    },
    {
     "name": "stdout",
     "output_type": "stream",
     "text": [
      "Train on 79 samples, validate on 20 samples\n",
      "Epoch 1/20\n",
      "79/79 [==============================] - 12s 153ms/step - loss: 4.0638 - accuracy: 0.4051 - val_loss: 0.9384 - val_accuracy: 0.5000\n",
      "Epoch 2/20\n",
      "79/79 [==============================] - 0s 4ms/step - loss: 1.0843 - accuracy: 0.4051 - val_loss: 0.6503 - val_accuracy: 0.6000\n",
      "Epoch 3/20\n",
      "79/79 [==============================] - 0s 4ms/step - loss: 0.6417 - accuracy: 0.5949 - val_loss: 0.7132 - val_accuracy: 0.6500\n",
      "Epoch 4/20\n",
      "79/79 [==============================] - 0s 4ms/step - loss: 1.2701 - accuracy: 0.7215 - val_loss: 0.6749 - val_accuracy: 0.6500\n",
      "Epoch 5/20\n",
      "79/79 [==============================] - 0s 4ms/step - loss: 0.6649 - accuracy: 0.8101 - val_loss: 0.5775 - val_accuracy: 0.6500\n",
      "Epoch 6/20\n",
      "79/79 [==============================] - 0s 4ms/step - loss: 0.4968 - accuracy: 0.7595 - val_loss: 0.5993 - val_accuracy: 0.7000\n",
      "Epoch 7/20\n",
      "79/79 [==============================] - 0s 4ms/step - loss: 0.5022 - accuracy: 0.7215 - val_loss: 0.6213 - val_accuracy: 0.6000\n",
      "Epoch 8/20\n",
      "79/79 [==============================] - 0s 4ms/step - loss: 0.4718 - accuracy: 0.6962 - val_loss: 0.6245 - val_accuracy: 0.6000\n",
      "Epoch 9/20\n",
      "79/79 [==============================] - 0s 4ms/step - loss: 0.4453 - accuracy: 0.7595 - val_loss: 0.6124 - val_accuracy: 0.6500\n",
      "Epoch 10/20\n",
      "79/79 [==============================] - 0s 4ms/step - loss: 0.4308 - accuracy: 0.7848 - val_loss: 0.5917 - val_accuracy: 0.7000\n",
      "Epoch 11/20\n",
      "79/79 [==============================] - 0s 4ms/step - loss: 0.3609 - accuracy: 0.9241 - val_loss: 0.5705 - val_accuracy: 0.6500\n",
      "Epoch 12/20\n",
      "79/79 [==============================] - 0s 4ms/step - loss: 0.3237 - accuracy: 0.9241 - val_loss: 0.5551 - val_accuracy: 0.7000\n",
      "Epoch 13/20\n",
      "79/79 [==============================] - 0s 4ms/step - loss: 0.2424 - accuracy: 0.9620 - val_loss: 0.5597 - val_accuracy: 0.7000\n",
      "Epoch 14/20\n",
      "79/79 [==============================] - 0s 5ms/step - loss: 0.1843 - accuracy: 0.9494 - val_loss: 0.5971 - val_accuracy: 0.6500\n",
      "Epoch 15/20\n",
      "79/79 [==============================] - 0s 5ms/step - loss: 0.3389 - accuracy: 0.9241 - val_loss: 0.6557 - val_accuracy: 0.7000\n",
      "Epoch 16/20\n",
      "79/79 [==============================] - 0s 4ms/step - loss: 0.3373 - accuracy: 0.9241 - val_loss: 0.6615 - val_accuracy: 0.7000\n",
      "Epoch 17/20\n",
      "79/79 [==============================] - 0s 4ms/step - loss: 0.1260 - accuracy: 0.8987 - val_loss: 0.6202 - val_accuracy: 0.7000\n",
      "Epoch 18/20\n",
      "79/79 [==============================] - 0s 4ms/step - loss: 0.0998 - accuracy: 0.9241 - val_loss: 0.5832 - val_accuracy: 0.7000\n",
      "Epoch 19/20\n",
      "79/79 [==============================] - 0s 4ms/step - loss: 0.0873 - accuracy: 0.9620 - val_loss: 0.5637 - val_accuracy: 0.6500\n",
      "Epoch 20/20\n",
      "79/79 [==============================] - 0s 4ms/step - loss: 0.0784 - accuracy: 0.9873 - val_loss: 0.5514 - val_accuracy: 0.7000\n"
     ]
    }
   ],
   "source": [
    "from keras.models import Sequential\n",
    "\n",
    "from keras.layers import Dense, LSTM, Dropout, Conv1D, MaxPooling1D\n",
    "from keras.layers.embeddings import Embedding\n",
    "from keras.preprocessing import sequence\n",
    "from keras.preprocessing.sequence import pad_sequences\n",
    "\n",
    "kVECTORLEN = 50\n",
    "\n",
    "model = Sequential()\n",
    "model.add(Embedding(5000, 500, input_length=50))\n",
    "model.add(LSTM(125))\n",
    "model.add(Dropout(0.4))\n",
    "model.add(Dense(1, activation='relu'))\n",
    "#model.add(Dense(1, activation='sigmoid'))\n",
    "model.compile(loss='binary_crossentropy', optimizer='adam', metrics=['accuracy'])\n",
    "\n",
    "print(model.summary())\n",
    "\n",
    "\n",
    "#test_sequence\n",
    "\n",
    "train_sequence = sequence.pad_sequences(train_sequence, maxlen=50)\n",
    "test_sequence = sequence.pad_sequences(test_sequence, maxlen=50)\n",
    "\n",
    "history = model.fit(train_sequence, y_train, validation_data=(test_sequence, y_test), epochs=20, batch_size=64)"
   ]
  },
  {
   "cell_type": "code",
   "execution_count": 8,
   "metadata": {},
   "outputs": [
    {
     "name": "stdout",
     "output_type": "stream",
     "text": [
      "Accuracy: 70.00%\n"
     ]
    }
   ],
   "source": [
    "scores = model.evaluate(test_sequence, y_test, verbose=0)\n",
    "accuracy = (scores[1]*100)\n",
    "\n",
    "print(\"Accuracy: {:.2f}%\".format(scores[1]*100))\n",
    "\n"
   ]
  },
  {
   "cell_type": "code",
   "execution_count": 10,
   "metadata": {},
   "outputs": [
    {
     "data": {
      "image/png": "[encoded data removed]",
      "text/plain": [
       "<Figure size 432x288 with 1 Axes>"
      ]
     },
     "metadata": {
      "needs_background": "light"
     },
     "output_type": "display_data"
    }
   ],
   "source": [
    "import matplotlib.pyplot as plt\n",
    "\n",
    "plt.plot(history.history['accuracy'])\n",
    "plt.plot(history.history['val_accuracy'])\n",
    "plt.title('model accuracy')\n",
    "plt.ylabel('accuracy')\n",
    "plt.xlabel('epoch')\n",
    "plt.legend(['train', 'validation'], loc='upper left')\n",
    "plt.show()"
   ]
  },
  {
   "cell_type": "code",
   "execution_count": 11,
   "metadata": {},
   "outputs": [
    {
     "data": {
      "image/png": "[encoded data removed]",
      "text/plain": [
       "<Figure size 432x288 with 1 Axes>"
      ]
     },
     "metadata": {
      "needs_background": "light"
     },
     "output_type": "display_data"
    }
   ],
   "source": [
    "plt.plot(history.history['loss'])\n",
    "plt.plot(history.history['val_loss'])\n",
    "plt.title('model loss')\n",
    "plt.ylabel('loss')\n",
    "plt.xlabel('epoch')\n",
    "plt.legend(['train', 'test'], loc='upper left')\n",
    "plt.show()"
   ]
  },
  {
   "cell_type": "code",
   "execution_count": null,
   "metadata": {},
   "outputs": [],
   "source": []
  }
 ],
 "metadata": {
  "kernelspec": {
   "display_name": "Python 3",
   "language": "python",
   "name": "python3"
  },
  "language_info": {
   "codemirror_mode": {
    "name": "ipython",
    "version": 3
   },
   "file_extension": ".py",
   "mimetype": "text/x-python",
   "name": "python",
   "nbconvert_exporter": "python",
   "pygments_lexer": "ipython3",
   "version": "3.8.3"
  }
 },
 "nbformat": 4,
 "nbformat_minor": 2
}
