{
 "cells": [
  {
   "cell_type": "code",
   "execution_count": 72,
   "metadata": {},
   "outputs": [],
   "source": [
    "def my_multiple():\n",
    " for i in range(200, 1, -1):\n",
    "     if (i%3 == 0):\n",
    "        print (i)"
   ]
  },
  {
   "cell_type": "code",
   "execution_count": 73,
   "metadata": {},
   "outputs": [
    {
     "name": "stdout",
     "output_type": "stream",
     "text": [
      "198\n",
      "195\n",
      "192\n",
      "189\n",
      "186\n",
      "183\n",
      "180\n",
      "177\n",
      "174\n",
      "171\n",
      "168\n",
      "165\n",
      "162\n",
      "159\n",
      "156\n",
      "153\n",
      "150\n",
      "147\n",
      "144\n",
      "141\n",
      "138\n",
      "135\n",
      "132\n",
      "129\n",
      "126\n",
      "123\n",
      "120\n",
      "117\n",
      "114\n",
      "111\n",
      "108\n",
      "105\n",
      "102\n",
      "99\n",
      "96\n",
      "93\n",
      "90\n",
      "87\n",
      "84\n",
      "81\n",
      "78\n",
      "75\n",
      "72\n",
      "69\n",
      "66\n",
      "63\n",
      "60\n",
      "57\n",
      "54\n",
      "51\n",
      "48\n",
      "45\n",
      "42\n",
      "39\n",
      "36\n",
      "33\n",
      "30\n",
      "27\n",
      "24\n",
      "21\n",
      "18\n",
      "15\n",
      "12\n",
      "9\n",
      "6\n",
      "3\n"
     ]
    }
   ],
   "source": [
    "my_multiple()"
   ]
  },
  {
   "cell_type": "code",
   "execution_count": 74,
   "metadata": {},
   "outputs": [],
   "source": [
    "def reverse_string(x):\n",
    "    return x[::-1]"
   ]
  },
  {
   "cell_type": "code",
   "execution_count": 75,
   "metadata": {},
   "outputs": [
    {
     "name": "stdout",
     "output_type": "stream",
     "text": [
      "erohw\n"
     ]
    }
   ],
   "source": [
    "mytxt = reverse_string(\"whore\")\n",
    "print(mytxt)"
   ]
  },
  {
   "cell_type": "code",
   "execution_count": 76,
   "metadata": {},
   "outputs": [],
   "source": [
    "def loop_print():\n",
    "    for i in range (1, 11):\n",
    "        print(i, end =\" \")\n",
    "        \n",
    "    for j in range (9, 0, -1):\n",
    "        print (j, end=\" \")\n",
    "                "
   ]
  },
  {
   "cell_type": "code",
   "execution_count": 77,
   "metadata": {},
   "outputs": [
    {
     "name": "stdout",
     "output_type": "stream",
     "text": [
      "1 2 3 4 5 6 7 8 9 10 9 8 7 6 5 4 3 2 1 "
     ]
    }
   ],
   "source": [
    "loop_print()"
   ]
  },
  {
   "cell_type": "code",
   "execution_count": 47,
   "metadata": {},
   "outputs": [],
   "source": [
    "def Repeat(x): \n",
    "    size = len(x) \n",
    "    repeated = [] \n",
    "    for i in range(size): \n",
    "        k = i + 1\n",
    "        for j in range(k, size): \n",
    "            if x[i] == x[j] and x[i] not in repeated: \n",
    "                repeated.append(x[i]) \n",
    "    return repeated "
   ]
  },
  {
   "cell_type": "code",
   "execution_count": 60,
   "metadata": {},
   "outputs": [
    {
     "name": "stdout",
     "output_type": "stream",
     "text": [
      "[20, 30, -20, 60]\n"
     ]
    }
   ],
   "source": [
    "list1 = [10, 20, 30, 20, 20, 30, 40,50, -20, 60, 60, -20, -20] \n",
    "print (Repeat(list1)) "
   ]
  },
  {
   "cell_type": "code",
   "execution_count": 70,
   "metadata": {},
   "outputs": [],
   "source": [
    "def sum_total():\n",
    "    total = 0\n",
    "    with open (\"integers.txt\", \"r\") as inp:\n",
    "        for line in inp:\n",
    "            try:\n",
    "                num = float(line)\n",
    "                total += num\n",
    "            except:\n",
    "                 print('{} is not a number!'.format(line))\n",
    "    print(total)"
   ]
  },
  {
   "cell_type": "code",
   "execution_count": 71,
   "metadata": {},
   "outputs": [
    {
     "name": "stdout",
     "output_type": "stream",
     "text": [
      "khanki\n",
      " is not a number!\n",
      "55.0\n"
     ]
    }
   ],
   "source": [
    "sum_total()"
   ]
  },
  {
   "cell_type": "code",
   "execution_count": null,
   "metadata": {},
   "outputs": [],
   "source": []
  }
 ],
 "metadata": {
  "kernelspec": {
   "display_name": "Python 3",
   "language": "python",
   "name": "python3"
  },
  "language_info": {
   "codemirror_mode": {
    "name": "ipython",
    "version": 3
   },
   "file_extension": ".py",
   "mimetype": "text/x-python",
   "name": "python",
   "nbconvert_exporter": "python",
   "pygments_lexer": "ipython3",
   "version": "3.7.4"
  }
 },
 "nbformat": 4,
 "nbformat_minor": 2
}
